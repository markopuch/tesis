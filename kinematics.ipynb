{
 "cells": [
  {
   "cell_type": "code",
   "execution_count": 1,
   "metadata": {},
   "outputs": [],
   "source": [
    "import numpy as np\n",
    "import sympy as sp"
   ]
  },
  {
   "cell_type": "code",
   "execution_count": 2,
   "metadata": {},
   "outputs": [],
   "source": [
    "#l = sqrt(L^2+A^2) LARGO/2 Y ANCHO/2\n",
    "#r RADIO DE LA RUEDA\n",
    "#v velocidad lineal ross\n",
    "#w velocidad angular ross\n",
    "# a alpha tg-1(L/A)\n",
    "# b beta 90-a\n",
    "v, w= sp.symbols(\"v w\") \n",
    "p1,p2,p3,p4=sp.symbols(\"p1 p2 p3 p4\")\n",
    "\n",
    "pi=np.pi\n",
    "\n",
    "r=10/100 #metros\n",
    "La=56.22/2/100 #metors\n",
    "An=42/2/100 #metros\n",
    "la= np.sqrt(La**2+An**2)\n",
    "a=np.arctan2(An,La)\n",
    "b=pi/2-a\n",
    "\n",
    "\n",
    "#LEFT FRONT\n",
    "a1=a\n",
    "b1=b\n",
    "\n",
    "#LEFT BACK\n",
    "a2=-(pi+a)\n",
    "b2=-b\n",
    "\n",
    "#RIGHT FRONT\n",
    "a3=-a\n",
    "b3=-(pi+b)\n",
    "\n",
    "#RIGHT BACK\n",
    "a4=pi+a\n",
    "b4=b+pi\n",
    "\n",
    "A= sp.Matrix([[sp.sin(a1+b1),-sp.cos(a1+b1),-la*sp.cos(b1)],\n",
    "              [sp.cos(a1+b1),sp.sin(a1+b1),la*sp.sin(b1)],\n",
    "              [sp.sin(a2+b2),-sp.cos(a2+b2),-la*sp.cos(b2)],\n",
    "              [sp.cos(a2+b2),sp.sin(a2+b2),la*sp.sin(b2)],\n",
    "              [sp.sin(a3+b3),-sp.cos(a3+b3),-la*sp.cos(b3)],\n",
    "              [sp.cos(a3+b3),sp.sin(a3+b3),la*sp.sin(b3)],\n",
    "              [sp.sin(a4+b4),-sp.cos(a4+b4),-la*sp.cos(b4)],\n",
    "              [sp.cos(a4+b4),sp.sin(a4+b4),la*sp.sin(b4)]\n",
    "              ])\n",
    "B= sp.Matrix([[r,0,0,0],\n",
    "              [0,0,0,0],\n",
    "              [0,r,0,0],\n",
    "              [0,0,0,0],\n",
    "              [0,0,r,0],\n",
    "              [0,0,0,0],\n",
    "              [0,0,0,r],\n",
    "              [0,0,0,0],\n",
    "              ])\n",
    "\n",
    "epsilon=sp.Matrix([[v,0,2.85*w]])\n",
    "\n",
    "p=sp.Matrix([[p1,p2,p3,p4]])"
   ]
  },
  {
   "cell_type": "markdown",
   "metadata": {},
   "source": [
    "# CINEMATICA INVERSA"
   ]
  },
  {
   "cell_type": "code",
   "execution_count": 3,
   "metadata": {},
   "outputs": [
    {
     "data": {
      "text/latex": [
       "$\\displaystyle \\left[\\begin{matrix}10.0 \\overline{v} - 5.985 \\overline{w}\\\\10.0 \\overline{v} - 5.985 \\overline{w}\\\\10.0 \\overline{v} + 5.985 \\overline{w}\\\\10.0 \\overline{v} + 5.985 \\overline{w}\\end{matrix}\\right]$"
      ],
      "text/plain": [
       "Matrix([\n",
       "[10.0*conjugate(v) - 5.985*conjugate(w)],\n",
       "[10.0*conjugate(v) - 5.985*conjugate(w)],\n",
       "[10.0*conjugate(v) + 5.985*conjugate(w)],\n",
       "[10.0*conjugate(v) + 5.985*conjugate(w)]])"
      ]
     },
     "metadata": {},
     "output_type": "display_data"
    }
   ],
   "source": [
    "#velocidades de las ruedas\n",
    "B_psinv=(B.H * B) ** -1 * B.H # Moore–Penrose pseudoinverse\n",
    "R= B_psinv * A \n",
    "# display(R)\n",
    "dphi=R*epsilon.H\n",
    "display(dphi)"
   ]
  },
  {
   "cell_type": "code",
   "execution_count": 4,
   "metadata": {},
   "outputs": [
    {
     "name": "stdout",
     "output_type": "stream",
     "text": [
      "1.45\n",
      "3.55\n"
     ]
    }
   ],
   "source": [
    "print(10*0.25-2.1*0.5)\n",
    "print(10*0.25+2.1*0.5)"
   ]
  },
  {
   "cell_type": "markdown",
   "metadata": {},
   "source": [
    "# CINEMATICA DIRECTA"
   ]
  },
  {
   "cell_type": "code",
   "execution_count": 5,
   "metadata": {},
   "outputs": [
    {
     "data": {
      "text/latex": [
       "$\\displaystyle \\left[\\begin{matrix}0.025 \\overline{p_{1}} + 0.025 \\overline{p_{2}} + 0.025 \\overline{p_{3}} + 0.025 \\overline{p_{4}}\\\\- 2.1 \\cdot 10^{-18} \\overline{p_{1}} + 4.0 \\cdot 10^{-18} \\overline{p_{2}} + 5.2 \\cdot 10^{-18} \\overline{p_{3}} - 7.1 \\cdot 10^{-18} \\overline{p_{4}}\\\\- 0.043 \\overline{p_{1}} - 0.043 \\overline{p_{2}} + 0.043 \\overline{p_{3}} + 0.043 \\overline{p_{4}}\\end{matrix}\\right]$"
      ],
      "text/plain": [
       "Matrix([\n",
       "[         0.025*conjugate(p1) + 0.025*conjugate(p2) + 0.025*conjugate(p3) + 0.025*conjugate(p4)],\n",
       "[-2.1e-18*conjugate(p1) + 4.0e-18*conjugate(p2) + 5.2e-18*conjugate(p3) - 7.1e-18*conjugate(p4)],\n",
       "[        -0.043*conjugate(p1) - 0.043*conjugate(p2) + 0.043*conjugate(p3) + 0.043*conjugate(p4)]])"
      ]
     },
     "metadata": {},
     "output_type": "display_data"
    }
   ],
   "source": [
    "from sympy import *\n",
    "#velocidades de las ruedas\n",
    "A_psinv=(A.H * A) ** -1 * A.H # Moore–Penrose pseudoinverse\n",
    "R= A_psinv * B \n",
    "\n",
    "# display(R)\n",
    "\n",
    "ep=R*p.H\n",
    "ep=N(ep,2)\n",
    "display(ep)\n"
   ]
  },
  {
   "cell_type": "markdown",
   "metadata": {},
   "source": [
    "# COMPROBAR"
   ]
  },
  {
   "cell_type": "code",
   "execution_count": 6,
   "metadata": {},
   "outputs": [
    {
     "name": "stdout",
     "output_type": "stream",
     "text": [
      "0.1 v w 0.6417907341783368 0.9290055926165598 0.21 0.281 0.3508005131125096\n"
     ]
    }
   ],
   "source": [
    "\n",
    "\n",
    "#l = sqrt(L^2+A^2) LARGO/2 Y ANCHO/2\n",
    "#r RADIO DE LA RUEDA\n",
    "#v velocidad lineal ross\n",
    "#w velocidad angular ross\n",
    "# a alpha tg-1(L/A)\n",
    "# b beta 90-a\n",
    "\n",
    "r=10/100 #metros\n",
    "La=56.2/2/100 #metros\n",
    "An=42/2/100 #metros\n",
    "\n",
    "la= np.sqrt(La**2+An**2) #metros\n",
    "\n",
    "a=np.arctan2(An,La)\n",
    "b=np.pi/2-a\n",
    "\n",
    "print( r, v, w, a, b, An, La, la)\n",
    "\n",
    "#LEFT FRONT\n",
    "a1=a\n",
    "b1=b\n",
    "\n",
    "#LEFT BACK\n",
    "a2=-(np.pi+a)\n",
    "b2=-b\n",
    "\n",
    "#RIGHT FRONT\n",
    "a3=-a\n",
    "b3=-(np.pi+b)\n",
    "\n",
    "#RIGHT BACK\n",
    "a4=np.pi+a\n",
    "b4=b+np.pi\n",
    "\n",
    "\n",
    "A= np.array([[np.sin(a1+b1),-np.cos(a1+b1),-la*np.cos(b1)],\n",
    "              [np.cos(a1+b1),np.sin(a1+b1),la*np.sin(b1)],\n",
    "              [np.sin(a2+b2),-np.cos(a2+b2),-la*np.cos(b2)],\n",
    "              [np.cos(a2+b2),np.sin(a2+b2),la*np.sin(b2)],\n",
    "              [np.sin(a3+b3),-np.cos(a3+b3),-la*np.cos(b3)],\n",
    "              [np.cos(a3+b3),np.sin(a3+b3),la*np.sin(b3)],\n",
    "              [np.sin(a4+b4),-np.cos(a4+b4),-la*np.cos(b4)],\n",
    "              [np.cos(a4+b4),np.sin(a4+b4),la*np.sin(b4)]\n",
    "              ])\n",
    "\n",
    "B= np.array([[r,0,0,0],\n",
    "              [0,0,0,0],\n",
    "              [0,r,0,0],\n",
    "              [0,0,0,0],\n",
    "              [0,0,r,0],\n",
    "              [0,0,0,0],\n",
    "              [0,0,0,r],\n",
    "              [0,0,0,0]\n",
    "              ])\n",
    "\n"
   ]
  },
  {
   "cell_type": "code",
   "execution_count": 7,
   "metadata": {},
   "outputs": [],
   "source": [
    "v= 0.2 #metros/seg\n",
    "w= 0.1 #rad/seg\n",
    "\n",
    "# #GANANCIA\n",
    "# if(w>0):\n",
    "#     k=0.89\n",
    "# else:\n",
    "#     k=-0.89\n",
    "\n",
    "epsilon=np.array([[v,0,2.85*w]])"
   ]
  },
  {
   "cell_type": "markdown",
   "metadata": {},
   "source": [
    "# Cinematica inversa"
   ]
  },
  {
   "cell_type": "code",
   "execution_count": 8,
   "metadata": {},
   "outputs": [
    {
     "name": "stdout",
     "output_type": "stream",
     "text": [
      "[[1.4015 2.5985]]\n"
     ]
    }
   ],
   "source": [
    "Le=10*v-5.985*w\n",
    "Ri=10*v+5.985*w\n",
    "dphi2=np.array([[Le,Ri]])\n",
    "print(dphi2)"
   ]
  },
  {
   "cell_type": "code",
   "execution_count": 9,
   "metadata": {},
   "outputs": [
    {
     "name": "stdout",
     "output_type": "stream",
     "text": [
      "[[1.4015]\n",
      " [1.4015]\n",
      " [2.5985]\n",
      " [2.5985]]\n"
     ]
    }
   ],
   "source": [
    "#velocidades de las ruedas\n",
    "R= np.linalg.pinv(B).dot(A) \n",
    "# print(R)\n",
    "dphi=R.dot(epsilon.T)\n",
    "dphi=dphi+np.array([[0,0,0,0]]).T\n",
    "print(dphi) #left front, left back, right front, right back"
   ]
  },
  {
   "cell_type": "markdown",
   "metadata": {},
   "source": [
    "# Cinematica directa"
   ]
  },
  {
   "cell_type": "code",
   "execution_count": 10,
   "metadata": {},
   "outputs": [
    {
     "name": "stdout",
     "output_type": "stream",
     "text": [
      "[[0.2      0.       0.102942]]\n"
     ]
    }
   ],
   "source": [
    "v2=0.025*(2*Le+2*Ri)\n",
    "w2=-0.043*(2*Le-2*Ri)\n",
    "ep2=np.array([[v2,0,w2]])\n",
    "print(ep2)"
   ]
  },
  {
   "cell_type": "code",
   "execution_count": 11,
   "metadata": {},
   "outputs": [
    {
     "name": "stdout",
     "output_type": "stream",
     "text": [
      "[[ 0.2]\n",
      " [-0. ]\n",
      " [ 0.1]]\n"
     ]
    }
   ],
   "source": [
    "#velocidades de las ruedas\n",
    "R= np.linalg.pinv(A).dot(B) \n",
    "# print(R)\n",
    "\n",
    "# dphi=np.array([[7.5,7.5,-7.5,-7.5]])\n",
    "ep=R.dot(dphi) \n",
    "print(np.round(ep,2)) #v,0,w "
   ]
  }
 ],
 "metadata": {
  "kernelspec": {
   "display_name": "Python 3",
   "language": "python",
   "name": "python3"
  },
  "language_info": {
   "codemirror_mode": {
    "name": "ipython",
    "version": 3
   },
   "file_extension": ".py",
   "mimetype": "text/x-python",
   "name": "python",
   "nbconvert_exporter": "python",
   "pygments_lexer": "ipython3",
   "version": "3.8.10"
  },
  "orig_nbformat": 4
 },
 "nbformat": 4,
 "nbformat_minor": 2
}
